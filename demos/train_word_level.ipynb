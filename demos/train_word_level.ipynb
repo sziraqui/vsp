{
 "cells": [
  {
   "cell_type": "code",
   "execution_count": 1,
   "metadata": {},
   "outputs": [],
   "source": [
    "import sys, os\n",
    "sys.path.insert(0, os.path.abspath('..'))"
   ]
  },
  {
   "cell_type": "code",
   "execution_count": 2,
   "metadata": {},
   "outputs": [
    {
     "name": "stderr",
     "output_type": "stream",
     "text": [
      "/home/sziraqui/.local/lib/python3.6/site-packages/h5py/__init__.py:36: FutureWarning: Conversion of the second argument of issubdtype from `float` to `np.floating` is deprecated. In future, it will be treated as `np.float64 == np.dtype(float).type`.\n",
      "  from ._conv import register_converters as _register_converters\n",
      "Using TensorFlow backend.\n"
     ]
    }
   ],
   "source": [
    "from modules.lipreading import WordReader\n",
    "import numpy as np\n",
    "import h5py\n",
    "from time import time"
   ]
  },
  {
   "cell_type": "code",
   "execution_count": 3,
   "metadata": {},
   "outputs": [],
   "source": [
    "params = {\n",
    "    'resume':False,\n",
    "    'frame_length': 15,\n",
    "    'optimizer': 'adam', \n",
    "    'loss_func':'categorical_crossentropy',\n",
    "    'batch_size': 2,\n",
    "    'epochs': 3,\n",
    "    'validation_split': 0.2,\n",
    "    'model_file': f'../weights/lipnet_15_{time()}.hdf5'\n",
    "}"
   ]
  },
  {
   "cell_type": "code",
   "execution_count": 4,
   "metadata": {},
   "outputs": [],
   "source": [
    "wr = WordReader(params)"
   ]
  },
  {
   "cell_type": "code",
   "execution_count": 5,
   "metadata": {},
   "outputs": [],
   "source": [
    "X,Y = None,None\n",
    "sample_size = 10 # do not load more than 100 unless you have 16 gigs RAM\n",
    "with h5py.File('../datasets/grid_word_0-199_100x50.hdf5') as f:\n",
    "    X = f[\"features\"][:sample_size] # Do not load more than 100 unless you have 32 Gigs RAM\n",
    "    Y = f[\"labels\"][:sample_size]"
   ]
  },
  {
   "cell_type": "code",
   "execution_count": 6,
   "metadata": {},
   "outputs": [],
   "source": [
    "X = X/255"
   ]
  },
  {
   "cell_type": "code",
   "execution_count": 7,
   "metadata": {},
   "outputs": [
    {
     "data": {
      "text/plain": [
       "(10, 15, 28)"
      ]
     },
     "execution_count": 7,
     "metadata": {},
     "output_type": "execute_result"
    }
   ],
   "source": [
    "Y.shape"
   ]
  },
  {
   "cell_type": "code",
   "execution_count": 8,
   "metadata": {},
   "outputs": [
    {
     "name": "stdout",
     "output_type": "stream",
     "text": [
      "Train on 8 samples, validate on 2 samples\n",
      "Epoch 1/3\n",
      "8/8 [==============================] - 21s 3s/step - loss: 2.5653 - acc: 0.3833 - val_loss: 1.5470 - val_acc: 0.4000\n",
      "Epoch 2/3\n",
      "8/8 [==============================] - 16s 2s/step - loss: 1.8588 - acc: 0.6083 - val_loss: 1.6946 - val_acc: 0.3333\n",
      "Epoch 3/3\n",
      "8/8 [==============================] - 16s 2s/step - loss: 1.8668 - acc: 0.5333 - val_loss: 1.2616 - val_acc: 0.7000\n"
     ]
    },
    {
     "data": {
      "text/plain": [
       "<keras.callbacks.History at 0x7f310bad1978>"
      ]
     },
     "execution_count": 8,
     "metadata": {},
     "output_type": "execute_result"
    }
   ],
   "source": [
    "wr.train_model(X,Y, params)"
   ]
  },
  {
   "cell_type": "code",
   "execution_count": null,
   "metadata": {},
   "outputs": [],
   "source": []
  }
 ],
 "metadata": {
  "kernelspec": {
   "display_name": "Python 3",
   "language": "python",
   "name": "python3"
  },
  "language_info": {
   "codemirror_mode": {
    "name": "ipython",
    "version": 3
   },
   "file_extension": ".py",
   "mimetype": "text/x-python",
   "name": "python",
   "nbconvert_exporter": "python",
   "pygments_lexer": "ipython3",
   "version": "3.6.4"
  }
 },
 "nbformat": 4,
 "nbformat_minor": 2
}
