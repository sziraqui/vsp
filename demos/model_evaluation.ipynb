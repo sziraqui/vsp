{
 "cells": [
  {
   "cell_type": "code",
   "execution_count": 1,
   "metadata": {},
   "outputs": [],
   "source": [
    "import sys, os\n",
    "sys.path.insert(0, os.path.abspath('..'))"
   ]
  },
  {
   "cell_type": "code",
   "execution_count": 2,
   "metadata": {},
   "outputs": [
    {
     "name": "stderr",
     "output_type": "stream",
     "text": [
      "Using TensorFlow backend.\n"
     ]
    }
   ],
   "source": [
    "from modules.lipreading import SentenceReader\n",
    "from modules.generators import BatchForCTC\n",
    "from modules.textprocessing import ints2word, sentenceCollapse, word2ints, CODE_BLANK, CODE_SPACE\n",
    "from glob import glob\n",
    "import numpy as np\n",
    "from time import time\n",
    "from time import strftime as timeformat\n",
    "from modules.utils import parse_config\n",
    "from tqdm import tqdm"
   ]
  },
  {
   "cell_type": "code",
   "execution_count": 3,
   "metadata": {},
   "outputs": [],
   "source": [
    "def error_rate(ypred, ytrue):\n",
    "    err_mat = (ypred ^ ytrue).astype(np.bool).astype(np.uint8)\n",
    "    err_sum = err_mat.sum(axis=1)\n",
    "    #print(err_sum)\n",
    "    err_mean = err_sum.mean(axis=0)\n",
    "    return 100*err_mean/ypred.shape[1]"
   ]
  },
  {
   "cell_type": "code",
   "execution_count": 4,
   "metadata": {},
   "outputs": [],
   "source": [
    "params = parse_config('../config/config-lipnet_300.json')\n",
    "params['hdf5_data_list'] = [params['hdf5_data_list'][-1]]"
   ]
  },
  {
   "cell_type": "code",
   "execution_count": 5,
   "metadata": {},
   "outputs": [],
   "source": [
    "sr = SentenceReader(params)\n",
    "gen = BatchForCTC(params)"
   ]
  },
  {
   "cell_type": "code",
   "execution_count": 6,
   "metadata": {},
   "outputs": [
    {
     "name": "stderr",
     "output_type": "stream",
     "text": [
      "100%|██████████| 4/4 [01:20<00:00, 20.40s/it]\n"
     ]
    }
   ],
   "source": [
    "samples = 0\n",
    "ypred = []\n",
    "ytrue = []\n",
    "for _ in tqdm(range(params['sample_size']//params['batch_size'])):\n",
    "    X, Y = None, None\n",
    "    for inp,_ in gen.next_batch(params['batch_size']):\n",
    "        X = inp['input']\n",
    "        Y = inp['label_input']\n",
    "        break\n",
    "    \n",
    "    for i in range(params['batch_size']):\n",
    "        pred = sr.predict_sentence(X[i])\n",
    "        og = word2ints(sentenceCollapse(ints2word(Y[i].astype(int))))\n",
    "        ypred.append(pred)\n",
    "        ytrue.append(og)"
   ]
  },
  {
   "cell_type": "code",
   "execution_count": 7,
   "metadata": {},
   "outputs": [
    {
     "data": {
      "text/plain": [
       "128"
      ]
     },
     "execution_count": 7,
     "metadata": {},
     "output_type": "execute_result"
    }
   ],
   "source": [
    "len(ypred)"
   ]
  },
  {
   "cell_type": "code",
   "execution_count": 8,
   "metadata": {},
   "outputs": [],
   "source": [
    "def char_error_rate(ypred, ytrue):\n",
    "    pred_mat = np.zeros((len(ypred), 32), dtype=int)\n",
    "    og_mat = np.zeros((len(ytrue), 32), dtype=int)\n",
    "    for i in range(len(ypred)):\n",
    "        pred = word2ints(ypred[i])\n",
    "        og = word2ints(sentenceCollapse(ints2word(ytrue[i])))\n",
    "        pred_mat[i,:len(pred)] = pred\n",
    "        og_mat[i,:len(og)] = og\n",
    "    return error_rate(pred_mat, og_mat)"
   ]
  },
  {
   "cell_type": "code",
   "execution_count": 9,
   "metadata": {},
   "outputs": [
    {
     "name": "stdout",
     "output_type": "stream",
     "text": [
      "32.6171875\n"
     ]
    }
   ],
   "source": [
    "cer = char_error_rate(ypred, ytrue)\n",
    "print(cer)"
   ]
  },
  {
   "cell_type": "code",
   "execution_count": 10,
   "metadata": {},
   "outputs": [],
   "source": [
    "def word_error_rate(ypred, ytrue):\n",
    "    words = set()\n",
    "    for pred in ypred:\n",
    "        words.update(pred.split('_'))\n",
    "    for og in ytrue:\n",
    "        words.update(sentenceCollapse(ints2word(og)).split('_'))\n",
    "    mapping = dict(zip(words, range(len(words))))\n",
    "    \n",
    "    pred_mat = np.zeros((len(ypred), 6), dtype=int)\n",
    "    og_mat = np.zeros((len(ytrue), 6), dtype=int)\n",
    "    for i in range(len(ypred)):\n",
    "        pred_words = ypred[i].split('_')\n",
    "        og_words = sentenceCollapse(ints2word(ytrue[i])).split('_')\n",
    "        try:\n",
    "            for j,w in enumerate(pred_words):\n",
    "                pred_mat[i,j] = mapping[w]\n",
    "        except IndexError:\n",
    "            print(i,j,pred_words)\n",
    "        try:\n",
    "            for j,w in enumerate(og_words):\n",
    "                og_mat[i,j] = mapping[w]\n",
    "        except IndexError:\n",
    "            print(i,j,og_words)\n",
    "    return error_rate(pred_mat, og_mat)"
   ]
  },
  {
   "cell_type": "code",
   "execution_count": 11,
   "metadata": {},
   "outputs": [
    {
     "name": "stdout",
     "output_type": "stream",
     "text": [
      "24 6 ['bin', 'blue', 'at', 'd', 'f', 'svene', 'please']\n",
      "51.953125\n"
     ]
    }
   ],
   "source": [
    "wer = word_error_rate(ypred, ytrue)\n",
    "print(wer)"
   ]
  },
  {
   "cell_type": "code",
   "execution_count": 12,
   "metadata": {},
   "outputs": [],
   "source": [
    "def sentence_error_rate(ypred, ytrue):\n",
    "    err = 0\n",
    "    for i in range(len(ypred)):\n",
    "        pred = ypred[i]\n",
    "        og = sentenceCollapse(ints2word(ytrue[i]))\n",
    "        #print(og, pred)\n",
    "        if pred != og:\n",
    "            err+=1\n",
    "    return 100*err/len(ypred)"
   ]
  },
  {
   "cell_type": "code",
   "execution_count": 13,
   "metadata": {},
   "outputs": [
    {
     "name": "stdout",
     "output_type": "stream",
     "text": [
      "100.0\n"
     ]
    }
   ],
   "source": [
    "ser = sentence_error_rate(ypred, ytrue)\n",
    "print(ser)"
   ]
  },
  {
   "cell_type": "code",
   "execution_count": null,
   "metadata": {},
   "outputs": [],
   "source": []
  }
 ],
 "metadata": {
  "kernelspec": {
   "display_name": "Python 3",
   "language": "python",
   "name": "python3"
  },
  "language_info": {
   "codemirror_mode": {
    "name": "ipython",
    "version": 3
   },
   "file_extension": ".py",
   "mimetype": "text/x-python",
   "name": "python",
   "nbconvert_exporter": "python",
   "pygments_lexer": "ipython3",
   "version": "3.6.5"
  }
 },
 "nbformat": 4,
 "nbformat_minor": 2
}
