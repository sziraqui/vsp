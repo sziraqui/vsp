{
 "cells": [
  {
   "cell_type": "code",
   "execution_count": 1,
   "metadata": {},
   "outputs": [],
   "source": [
    "import sys, os\n",
    "sys.path.insert(0, os.path.abspath('..'))"
   ]
  },
  {
   "cell_type": "code",
   "execution_count": 2,
   "metadata": {},
   "outputs": [
    {
     "name": "stderr",
     "output_type": "stream",
     "text": [
      "/home/sziraqui/.local/lib/python3.6/site-packages/h5py/__init__.py:36: FutureWarning: Conversion of the second argument of issubdtype from `float` to `np.floating` is deprecated. In future, it will be treated as `np.float64 == np.dtype(float).type`.\n",
      "  from ._conv import register_converters as _register_converters\n",
      "Using TensorFlow backend.\n"
     ]
    }
   ],
   "source": [
    "from modules.lipreading import WordReader\n",
    "import numpy as np\n",
    "from modules.textprocessing import binmat2word\n",
    "import h5py\n",
    "from keras.models import load_model\n",
    "import keras.backend as K\n",
    "from time import time"
   ]
  },
  {
   "cell_type": "code",
   "execution_count": 3,
   "metadata": {},
   "outputs": [
    {
     "name": "stdout",
     "output_type": "stream",
     "text": [
      "['model_weights', 'optimizer_weights']\n"
     ]
    }
   ],
   "source": [
    "with h5py.File('../weights/wordReader_15-32bs-20ep-1184s.hdf5') as f:\n",
    "    print(list(f.keys()))"
   ]
  },
  {
   "cell_type": "code",
   "execution_count": 4,
   "metadata": {},
   "outputs": [],
   "source": [
    "model = load_model('/home/sziraqui/Documents/vsp-dev/weights/lipnet_15_1541938408.1610196.hdf5')"
   ]
  },
  {
   "cell_type": "code",
   "execution_count": 5,
   "metadata": {},
   "outputs": [],
   "source": [
    "model.save_weights('../weights/wr15_weights.hdf5')"
   ]
  },
  {
   "cell_type": "code",
   "execution_count": 3,
   "metadata": {},
   "outputs": [],
   "source": [
    "params = {\n",
    "    'resume':False,\n",
    "    'frame_length': 15,\n",
    "    'optimizer': 'adam', \n",
    "    'loss_func':'categorical_crossentropy',\n",
    "    'batch_size': 2,\n",
    "    'epochs': 3,\n",
    "    'validation_split': 0.2,\n",
    "    'model_file': f'../weights/lipnet_15_{time()}.hdf5'\n",
    "}\n",
    "wr = WordReader(params)"
   ]
  },
  {
   "cell_type": "code",
   "execution_count": 4,
   "metadata": {},
   "outputs": [],
   "source": [
    "wr.model.load_weights('../weights/wr15_weights.hdf5')"
   ]
  },
  {
   "cell_type": "code",
   "execution_count": 5,
   "metadata": {},
   "outputs": [],
   "source": [
    "Xtest, ytest = None, None\n",
    "samples = 50\n",
    "with h5py.File('../datasets/grid_word_0-199_100x50.hdf5') as f:\n",
    "    Xtest = f[\"features\"][:samples]/255\n",
    "    ytest = f[\"labels\"][:samples]"
   ]
  },
  {
   "cell_type": "code",
   "execution_count": 29,
   "metadata": {},
   "outputs": [
    {
     "name": "stdout",
     "output_type": "stream",
     "text": [
      "50/50 [==============================] - 7s 149ms/step\n"
     ]
    },
    {
     "data": {
      "text/plain": [
       "[1.8672854042053222, 0.5400000011920929]"
      ]
     },
     "execution_count": 29,
     "metadata": {},
     "output_type": "execute_result"
    }
   ],
   "source": [
    "wr.model.evaluate(Xtest, ytest)"
   ]
  },
  {
   "cell_type": "code",
   "execution_count": 8,
   "metadata": {},
   "outputs": [
    {
     "data": {
      "text/plain": [
       "'gegoldefefhdofgdfedka'"
      ]
     },
     "execution_count": 8,
     "metadata": {},
     "output_type": "execute_result"
    }
   ],
   "source": [
    "wr.predict_word(Xtest[49])"
   ]
  },
  {
   "cell_type": "code",
   "execution_count": 24,
   "metadata": {},
   "outputs": [],
   "source": [
    "from modules.textprocessing import min_repetitions\n",
    "def code2word(codePoints):\n",
    "    charArr = list(map(lambda x: chr(ord('a') + x) if 0 <= x <= 25 else '_', codePoints))\n",
    "    charArr = list(''.join(charArr).strip('_'))\n",
    "    word = '' # blank\n",
    "    size = len(charArr)\n",
    "    #repetition = min_repetitions(charArr)\n",
    "    #for i in np.arange(0,size, repetition):\n",
    "     #   word += charArr[i]\n",
    "    word = ''.join(charArr)\n",
    "    return word"
   ]
  },
  {
   "cell_type": "code",
   "execution_count": 35,
   "metadata": {},
   "outputs": [
    {
     "name": "stdout",
     "output_type": "stream",
     "text": [
      "afaaaaaagaaaahaaaaaaaaaaaaia\n",
      "aeaahaaaaaafaaaaaaaagaaaaaia\n",
      "gaaaaaaaaaaaaaaaaaahaaaaaaia\n",
      "aeaaaaaaaaaaaaaaaaaaaaaaaaaa\n",
      "aaaaeaghfaaaaaaaaaaiaaaaaaja\n",
      "aaaaaaaaaaaaaegaaaaaaaiaaaka\n",
      "adaaaaaafaaaahaaaaaaaaaaaaja\n",
      "aeaahaaaaaafaaaaaaaagaaaaaia\n",
      "gaaaaaaaaaaaaaaaaaahaaaaaaia\n",
      "aeaaaaaaaaaaaaaaaaaaaaaaaaaa\n",
      "aaaakaaaeaaaabaaaaaaaaaaaaaa\n",
      "aaaaaaaaaaaaacfaaaaaaaiaaala\n",
      "aeaaaaaagaaaaiaaaaaaaaaaaaaa\n",
      "afaaiaaaaaagaaaaaaaahaaaaaja\n",
      "gaaaaaaaaaaaaaaaaaahaaaaaaia\n",
      "afaaaaaaaaaaaaaaaaaaaaaaaaaa\n",
      "aaaajaaafaaaadaaaaaaaaaaaaaa\n",
      "aaaaaaaaaaaaajfaaadaaaaaaala\n",
      "aeaaaaaagaaaaiaaaaaaaaaaaaaa\n",
      "afaaiaaaaaagaaaaaaaahaaaaaja\n",
      "gaaaaaaaaaaaaaaaaaahaaaaaaia\n",
      "aaeaaaaaaaaaaaaaaaaaaaaaaaaa\n",
      "aaaaiaaaaaaaageaaaaaaaaaaaaa\n",
      "daaaaaeagaaaahaaaaaaaaaaaaia\n",
      "aaaaaaaaaaaaaaaaaaaaaaaaaaaa\n",
      "aeaaaaaagaaaaiaaaaaaaaaaaaka\n",
      "aeaahaaaaaafaaaaaaaagaaaaaia\n",
      "gaaaaaaaaaaaaaaaaaahaaaaaaia\n",
      "aaeaaaaaaaaaaaaaaaaaaaaaaaaa\n",
      "aaaajaaaaaaaagdaaaaaaaaaaaaa\n",
      "aaaaaaaaaaaaabfaaaaaaajaaana\n",
      "acaaaaaafaaaaiaaaaaaaaaaaala\n",
      "adaajaaaaaafaaaaaaaahaaaaaaa\n",
      "faaaaaaaaaaaaaaaaaahaaaaaaaa\n",
      "aacaaaaaaaaaaaaaaaaaaaaaaaaa\n",
      "aaaaiaaaaaaaafcaaaaaaaaaaala\n",
      "adaaaaaafaaaahaaaaaaaaaaaaja\n",
      "aeaahaaaaaafaaaaaaaagaaaaaia\n",
      "gaaaaaaaaaaaaaaaaaahaaaaaaia\n",
      "aafaaaaaaaaaaaaaaaaaaaaaaaaa\n",
      "aaaaiaaaaaaaageaaaaaaaaaaaka\n",
      "adaaaaaagaaaajaaaaaaaaaaaaaa\n",
      "adaajaaaaaafaaaaaaaahaaaaaaa\n",
      "faaaaaaaaaaaaaaaaaahaaaaaaaa\n",
      "aadaaaaaaaaaaaaaaaaaaaaaaaaa\n",
      "aaaaaaaaaaaaaajaaaadaagaaaaa\n",
      "baaaaadahaaaajaaaaaaaaaaaala\n",
      "adaaaaaagaaaajaaaaaaaaaaaaaa\n",
      "acaaiaaaaaaeaaaaaaaagaaaaaka\n",
      "eaaaaaaaaaaaaaaaaaahaaaaaaaa\n"
     ]
    }
   ],
   "source": [
    "for pred in preds:\n",
    "    print(code2word(pred))"
   ]
  },
  {
   "cell_type": "code",
   "execution_count": null,
   "metadata": {},
   "outputs": [],
   "source": []
  }
 ],
 "metadata": {
  "kernelspec": {
   "display_name": "Python 3",
   "language": "python",
   "name": "python3"
  },
  "language_info": {
   "codemirror_mode": {
    "name": "ipython",
    "version": 3
   },
   "file_extension": ".py",
   "mimetype": "text/x-python",
   "name": "python",
   "nbconvert_exporter": "python",
   "pygments_lexer": "ipython3",
   "version": "3.6.4"
  }
 },
 "nbformat": 4,
 "nbformat_minor": 2
}
