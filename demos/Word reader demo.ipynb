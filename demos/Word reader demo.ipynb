{
 "cells": [
  {
   "cell_type": "code",
   "execution_count": 1,
   "metadata": {},
   "outputs": [],
   "source": [
    "import sys, os\n",
    "sys.path.insert(0, os.path.abspath('..'))"
   ]
  },
  {
   "cell_type": "code",
   "execution_count": 2,
   "metadata": {},
   "outputs": [
    {
     "name": "stderr",
     "output_type": "stream",
     "text": [
      "/home/sziraqui/.local/lib/python3.6/site-packages/h5py/__init__.py:36: FutureWarning: Conversion of the second argument of issubdtype from `float` to `np.floating` is deprecated. In future, it will be treated as `np.float64 == np.dtype(float).type`.\n",
      "  from ._conv import register_converters as _register_converters\n",
      "Using TensorFlow backend.\n"
     ]
    }
   ],
   "source": [
    "from modules.lipreading import WordReader\n",
    "from modules.generators import BatchForCTC\n",
    "from glob import glob\n",
    "import numpy as np\n",
    "from time import time\n",
    "from time import strftime as timeformat"
   ]
  },
  {
   "cell_type": "code",
   "execution_count": 3,
   "metadata": {},
   "outputs": [],
   "source": [
    "params = {\n",
    "    \"resume\": False,\n",
    "    \"initial_epoch\": 0,\n",
    "    \"frame_length\": 75,\n",
    "    \"frame_width\": 100,\n",
    "    \"frame_height\": 50,\n",
    "    \"hdf5_data_list\": glob(\"../datasets/*sentence*.hdf5\"),\n",
    "    \"generator_queue_size\": 1, \n",
    "    \"loss_func\": {'ctc_loss': lambda ytrue,ypred: ypred},\n",
    "    \"sample_size\": 128,\n",
    "    \"batch_size\": 32,\n",
    "    \"epochs\": 30,\n",
    "    \"learning_rate\": 1e-03,\n",
    "    \"learning_beta1\": 0.9,\n",
    "    \"learning_beta2\": 0.999,\n",
    "    \"learning_decay\": 1e-08,\n",
    "    \"validation_split\": 0.2,\n",
    "    \"log_dir\": \"/content/vsp-dev/logs\"\n",
    "}\n",
    "params[\"model_file\"] = f\"../weights/lipnet_ctc_s{params['sample_size']}_b{params['batch_size']}_e{params['epochs']}_{time()}.hdf5\""
   ]
  },
  {
   "cell_type": "code",
   "execution_count": 4,
   "metadata": {},
   "outputs": [],
   "source": [
    "params['sample_size'] = 8\n",
    "params['batch_size'] = 2\n",
    "params['epochs'] = 1\n",
    "wr = WordReader(params)\n",
    "wr.model.load_weights(\"../weights/lipnet_ctc_s128_b32_e300_18-12-2018-19-02-24.hdf5\")"
   ]
  },
  {
   "cell_type": "code",
   "execution_count": 5,
   "metadata": {},
   "outputs": [],
   "source": [
    "generator = BatchForCTC(params)"
   ]
  },
  {
   "cell_type": "code",
   "execution_count": 6,
   "metadata": {},
   "outputs": [
    {
     "name": "stdout",
     "output_type": "stream",
     "text": [
      "(2, 75, 50, 100, 3)\n",
      "(2, 32)\n"
     ]
    }
   ],
   "source": [
    "X,Y, il,ll = tuple([None]*4)\n",
    "samples = 32\n",
    "for i,o in generator.next_batch(1):\n",
    "    X,Y,il,ll = i['input'], i['label_input'], i['input_length'], i['label_length']\n",
    "    break\n",
    "print(X.shape)\n",
    "print(Y.shape)"
   ]
  },
  {
   "cell_type": "code",
   "execution_count": 8,
   "metadata": {},
   "outputs": [
    {
     "data": {
      "text/plain": [
       "'majbfcoh'"
      ]
     },
     "execution_count": 8,
     "metadata": {},
     "output_type": "execute_result"
    }
   ],
   "source": [
    "wr.predict_word(X[0])"
   ]
  },
  {
   "cell_type": "code",
   "execution_count": null,
   "metadata": {},
   "outputs": [],
   "source": []
  }
 ],
 "metadata": {
  "kernelspec": {
   "display_name": "Python 3",
   "language": "python",
   "name": "python3"
  },
  "language_info": {
   "codemirror_mode": {
    "name": "ipython",
    "version": 3
   },
   "file_extension": ".py",
   "mimetype": "text/x-python",
   "name": "python",
   "nbconvert_exporter": "python",
   "pygments_lexer": "ipython3",
   "version": "3.6.4"
  }
 },
 "nbformat": 4,
 "nbformat_minor": 2
}
