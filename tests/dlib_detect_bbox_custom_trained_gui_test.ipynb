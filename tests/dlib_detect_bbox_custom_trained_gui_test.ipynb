{
 "cells": [
  {
   "cell_type": "code",
   "execution_count": 1,
   "metadata": {},
   "outputs": [],
   "source": [
    "import os,sys,dlib"
   ]
  },
  {
   "cell_type": "code",
   "execution_count": 21,
   "metadata": {},
   "outputs": [],
   "source": [
    "win = dlib.image_window()"
   ]
  },
  {
   "cell_type": "code",
   "execution_count": 3,
   "metadata": {},
   "outputs": [],
   "source": [
    "sys.path.insert(0, os.path.abspath('..'))\n",
    "from modules.framestream import ImageStream\n",
    "from modules.framestream import VideoStream\n",
    "from modules.preprocessing import LipDetectorDlib"
   ]
  },
  {
   "cell_type": "code",
   "execution_count": 4,
   "metadata": {},
   "outputs": [],
   "source": [
    "ims = ImageStream('../datasets/ibug_300W_large_face_landmark_dataset/lfpw/testset')\n",
    "ims.BUFFER_SIZE = 25*5"
   ]
  },
  {
   "cell_type": "code",
   "execution_count": 5,
   "metadata": {},
   "outputs": [
    {
     "name": "stdout",
     "output_type": "stream",
     "text": [
      "WARNING: weightsFile was not provided, you must set model yourself by calling model_from_file(\"path/to/file\")\n"
     ]
    }
   ],
   "source": [
    "detector = LipDetectorDlib()\n",
    "detector.model_from_file('../weights/lip_landmarks_model.dat')"
   ]
  },
  {
   "cell_type": "code",
   "execution_count": 6,
   "metadata": {},
   "outputs": [],
   "source": [
    "ims.buffer_frames()"
   ]
  },
  {
   "cell_type": "code",
   "execution_count": 31,
   "metadata": {},
   "outputs": [],
   "source": [
    "img = ims.next_frame()"
   ]
  },
  {
   "cell_type": "code",
   "execution_count": 32,
   "metadata": {},
   "outputs": [],
   "source": [
    "win.set_image(img)"
   ]
  },
  {
   "cell_type": "code",
   "execution_count": 9,
   "metadata": {},
   "outputs": [],
   "source": [
    "lipBB = detector.get_bbox(img)\n",
    "win.clear_overlay()\n",
    "win.add_overlay(lipBB)"
   ]
  },
  {
   "cell_type": "code",
   "execution_count": 33,
   "metadata": {},
   "outputs": [],
   "source": [
    "faces = detector.faceDetector(img, 1) # get atleast one face\n",
    "lipPoints = []\n",
    "landmarks = detector.model(img, faces[0])    \n",
    "for i in range(0,20):\n",
    "    lipPoints.append(landmarks.part(i)) # extract `dlib.point`s 48-68 of jaw region\n",
    "        \n",
    "lipBB = dlib.rectangle(\n",
    "            landmarks.part(48-48).x, # left\n",
    "            min([landmarks.part(52-48).y, landmarks.part(48-48).y, landmarks.part(54-48).y, landmarks.part(51-48).y, landmarks.part(52-48).y]), # top\n",
    "            landmarks.part(54-48).x, # right\n",
    "            max([landmarks.part(57-48).y, landmarks.part(48-48).y, landmarks.part(54-48).y, landmarks.part(56-48).y, landmarks.part(57-48).y]) # bottom\n",
    "        )\n",
    "lipDetection = dlib.full_object_detection(lipBB, lipPoints)"
   ]
  },
  {
   "cell_type": "code",
   "execution_count": 34,
   "metadata": {},
   "outputs": [],
   "source": [
    "win.clear_overlay()\n",
    "win.add_overlay(lipBB)"
   ]
  },
  {
   "cell_type": "code",
   "execution_count": null,
   "metadata": {},
   "outputs": [],
   "source": []
  }
 ],
 "metadata": {
  "kernelspec": {
   "display_name": "Python 3",
   "language": "python",
   "name": "python3"
  },
  "language_info": {
   "codemirror_mode": {
    "name": "ipython",
    "version": 3
   },
   "file_extension": ".py",
   "mimetype": "text/x-python",
   "name": "python",
   "nbconvert_exporter": "python",
   "pygments_lexer": "ipython3",
   "version": "3.6.4"
  }
 },
 "nbformat": 4,
 "nbformat_minor": 2
}
